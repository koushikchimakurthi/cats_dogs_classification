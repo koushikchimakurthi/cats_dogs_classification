{
  "nbformat": 4,
  "nbformat_minor": 0,
  "metadata": {
    "colab": {
      "name": "Dogs-Cats.ipynb",
      "provenance": []
    },
    "kernelspec": {
      "name": "python3",
      "display_name": "Python 3"
    },
    "accelerator": "GPU"
  },
  "cells": [
    {
      "cell_type": "code",
      "metadata": {
        "id": "A4BGGnHM4UjQ",
        "colab_type": "code",
        "colab": {
          "base_uri": "https://localhost:8080/",
          "height": 70
        },
        "outputId": "65ceccf9-c13d-491e-d4f7-4359696bd2fe"
      },
      "source": [
        "import numpy as np\n",
        "import pandas as pd\n",
        "import matplotlib.pyplot as plt\n",
        "import seaborn as sns\n",
        "sns.set()\n",
        "import tensorflow as tf\n",
        "from tensorflow import keras\n",
        "from tensorflow.keras.preprocessing.image import ImageDataGenerator\n",
        "import random\n",
        "import os\n",
        "import zipfile\n",
        "from shutil import copyfile"
      ],
      "execution_count": 1,
      "outputs": [
        {
          "output_type": "stream",
          "text": [
            "/usr/local/lib/python3.6/dist-packages/statsmodels/tools/_testing.py:19: FutureWarning: pandas.util.testing is deprecated. Use the functions in the public API at pandas.testing instead.\n",
            "  import pandas.util.testing as tm\n"
          ],
          "name": "stderr"
        }
      ]
    },
    {
      "cell_type": "code",
      "metadata": {
        "id": "d8bsOlXR4975",
        "colab_type": "code",
        "colab": {
          "base_uri": "https://localhost:8080/",
          "height": 202
        },
        "outputId": "be4e96bb-4d53-4947-ef74-0ad760046de8"
      },
      "source": [
        "!wget --no-check-certificate \\\n",
        "    \"https://download.microsoft.com/download/3/E/1/3E1C3F21-ECDB-4869-8368-6DEBA77B919F/kagglecatsanddogs_3367a.zip\" \\\n",
        "    -O \"/tmp/cats-and-dogs.zip\""
      ],
      "execution_count": 2,
      "outputs": [
        {
          "output_type": "stream",
          "text": [
            "--2020-09-10 05:44:33--  https://download.microsoft.com/download/3/E/1/3E1C3F21-ECDB-4869-8368-6DEBA77B919F/kagglecatsanddogs_3367a.zip\n",
            "Resolving download.microsoft.com (download.microsoft.com)... 173.222.228.51, 2600:1409:a:199::e59, 2600:1409:a:187::e59\n",
            "Connecting to download.microsoft.com (download.microsoft.com)|173.222.228.51|:443... connected.\n",
            "HTTP request sent, awaiting response... 200 OK\n",
            "Length: 824894548 (787M) [application/octet-stream]\n",
            "Saving to: ‘/tmp/cats-and-dogs.zip’\n",
            "\n",
            "/tmp/cats-and-dogs. 100%[===================>] 786.68M  65.3MB/s    in 10s     \n",
            "\n",
            "2020-09-10 05:44:43 (77.5 MB/s) - ‘/tmp/cats-and-dogs.zip’ saved [824894548/824894548]\n",
            "\n"
          ],
          "name": "stdout"
        }
      ]
    },
    {
      "cell_type": "code",
      "metadata": {
        "id": "i_lqce_m5Dq2",
        "colab_type": "code",
        "colab": {}
      },
      "source": [
        "local_zip = '/tmp/cats-and-dogs.zip'\n",
        "with zipfile.ZipFile(local_zip, 'r') as zip_ref:\n",
        "  zip_ref.extractall('/tmp')\n",
        "  zip_ref.close()"
      ],
      "execution_count": 3,
      "outputs": []
    },
    {
      "cell_type": "code",
      "metadata": {
        "id": "50yqIA3Y5dP9",
        "colab_type": "code",
        "colab": {}
      },
      "source": [
        "try:\n",
        "  os.mkdir('/tmp/cats-and-dogs')\n",
        "  os.mkdir('/tmp/cats-and-dogs/training')\n",
        "  os.mkdir('/tmp/cats-and-dogs/testing')\n",
        "  os.mkdir('/tmp/cats-and-dogs/training/cats')\n",
        "  os.mkdir('/tmp/cats-and-dogs/training/dogs')\n",
        "  os.mkdir('/tmp/cats-and-dogs/testing/cats')\n",
        "  os.mkdir('/tmp/cats-and-dogs/testing/dogs')\n",
        "except OSError:\n",
        "  pass"
      ],
      "execution_count": 4,
      "outputs": []
    },
    {
      "cell_type": "code",
      "metadata": {
        "id": "VptWiwg66Cis",
        "colab_type": "code",
        "colab": {
          "base_uri": "https://localhost:8080/",
          "height": 50
        },
        "outputId": "847b3643-4b36-474e-af33-dc2812438463"
      },
      "source": [
        "def split_data(Source, Training, Testing, Split_size):\n",
        "  files = []\n",
        "  for filename in os.listdir(Source):\n",
        "    file  = Source + filename\n",
        "    if os.path.getsize(file)>0:\n",
        "      files.append(filename)\n",
        "    else:\n",
        "      print(\"{} is of zero length, so ignoring...\".format(filename))\n",
        "\n",
        "  training_length = int(len(files)*Split_size)\n",
        "  testing_length = int(len(files) - training_length)\n",
        "  shuffled_set = random.sample(files, len(files))\n",
        "  training_set = shuffled_set[0:training_length]\n",
        "  testing_set = shuffled_set[-testing_length:]\n",
        "\n",
        "  for filename in training_set:\n",
        "    this_file = Source + filename\n",
        "    destination = Training + filename\n",
        "    copyfile(this_file, destination)\n",
        "\n",
        "  for filename in testing_set:\n",
        "    this_file = Source + filename\n",
        "    destination = Testing + filename\n",
        "    copyfile(this_file, destination)\n",
        "\n",
        "CATS_SOURCE_DIR = '/tmp/PetImages/Cat/'\n",
        "CATS_TRAINING_DIR = '/tmp/cats-and-dogs/training/cats/'\n",
        "CATS_TESTING_DIR = '/tmp/cats-and-dogs/testing/cats/'\n",
        "DOGS_SOURCE_DIR = '/tmp/PetImages/Dog/'\n",
        "DOGS_TRAINING_DIR = '/tmp/cats-and-dogs/training/dogs/'\n",
        "DOGS_TESTING_DIR = '/tmp/cats-and-dogs/testing/dogs/'\n",
        "\n",
        "split_size = 0.9\n",
        "split_data(CATS_SOURCE_DIR, CATS_TRAINING_DIR, CATS_TESTING_DIR, split_size)\n",
        "split_data(DOGS_SOURCE_DIR, DOGS_TRAINING_DIR, DOGS_TESTING_DIR, split_size)"
      ],
      "execution_count": 5,
      "outputs": [
        {
          "output_type": "stream",
          "text": [
            "666.jpg is of zero length, so ignoring...\n",
            "11702.jpg is of zero length, so ignoring...\n"
          ],
          "name": "stdout"
        }
      ]
    },
    {
      "cell_type": "code",
      "metadata": {
        "id": "Ite5GXmDE7P3",
        "colab_type": "code",
        "colab": {
          "base_uri": "https://localhost:8080/",
          "height": 50
        },
        "outputId": "7164c875-5b7b-4dbf-81c5-d013316980b3"
      },
      "source": [
        "train_datagen = ImageDataGenerator(rescale=1/255,\n",
        "                                  width_shift_range = 0.2,\n",
        "                                  height_shift_range = 0.2,\n",
        "                                  zoom_range = 0.2,\n",
        "                                  shear_range = 0.2,\n",
        "                                  horizontal_flip = True)\n",
        "train_generator = train_datagen.flow_from_directory('/tmp/cats-and-dogs/training/',\n",
        "                                                    target_size = (150,150),\n",
        "                                                    batch_size = 64,\n",
        "                                                    class_mode = 'binary')\n",
        "test_datagen = ImageDataGenerator(rescale=1/255)\n",
        "validation_gen = test_datagen.flow_from_directory('/tmp/cats-and-dogs/testing/',\n",
        "                                                  target_size = (150,150),\n",
        "                                                  batch_size = 32,\n",
        "                                                  class_mode = 'binary')"
      ],
      "execution_count": 6,
      "outputs": [
        {
          "output_type": "stream",
          "text": [
            "Found 24856 images belonging to 2 classes.\n",
            "Found 5726 images belonging to 2 classes.\n"
          ],
          "name": "stdout"
        }
      ]
    },
    {
      "cell_type": "code",
      "metadata": {
        "id": "hOcEzt_qHAD2",
        "colab_type": "code",
        "colab": {}
      },
      "source": [
        "model = tf.keras.models.Sequential([keras.layers.Conv2D(16, (3,3), input_shape=(150,150,3), activation='relu'),\n",
        "                                    keras.layers.MaxPooling2D(pool_size=(2,2)),\n",
        "                                    keras.layers.Conv2D(64, (3,3), activation='relu'),\n",
        "                                    keras.layers.MaxPooling2D(pool_size=(2,2)),\n",
        "                                    keras.layers.Conv2D(32, (3,3), activation='relu'),\n",
        "                                    keras.layers.MaxPooling2D(pool_size=(2,2)),\n",
        "                                    keras.layers.Flatten(),\n",
        "                                    keras.layers.Dense(units = 512, activation='relu'),\n",
        "                                    keras.layers.Dense(1, activation='sigmoid')])"
      ],
      "execution_count": 7,
      "outputs": []
    },
    {
      "cell_type": "code",
      "metadata": {
        "id": "jaDtbv7HIWAm",
        "colab_type": "code",
        "colab": {
          "base_uri": "https://localhost:8080/",
          "height": 454
        },
        "outputId": "cfc0fa6a-b6cd-4cb1-ca08-f9a437db7b54"
      },
      "source": [
        "model.summary()"
      ],
      "execution_count": 8,
      "outputs": [
        {
          "output_type": "stream",
          "text": [
            "Model: \"sequential\"\n",
            "_________________________________________________________________\n",
            "Layer (type)                 Output Shape              Param #   \n",
            "=================================================================\n",
            "conv2d (Conv2D)              (None, 148, 148, 16)      448       \n",
            "_________________________________________________________________\n",
            "max_pooling2d (MaxPooling2D) (None, 74, 74, 16)        0         \n",
            "_________________________________________________________________\n",
            "conv2d_1 (Conv2D)            (None, 72, 72, 64)        9280      \n",
            "_________________________________________________________________\n",
            "max_pooling2d_1 (MaxPooling2 (None, 36, 36, 64)        0         \n",
            "_________________________________________________________________\n",
            "conv2d_2 (Conv2D)            (None, 34, 34, 32)        18464     \n",
            "_________________________________________________________________\n",
            "max_pooling2d_2 (MaxPooling2 (None, 17, 17, 32)        0         \n",
            "_________________________________________________________________\n",
            "flatten (Flatten)            (None, 9248)              0         \n",
            "_________________________________________________________________\n",
            "dense (Dense)                (None, 512)               4735488   \n",
            "_________________________________________________________________\n",
            "dense_1 (Dense)              (None, 1)                 513       \n",
            "=================================================================\n",
            "Total params: 4,764,193\n",
            "Trainable params: 4,764,193\n",
            "Non-trainable params: 0\n",
            "_________________________________________________________________\n"
          ],
          "name": "stdout"
        }
      ]
    },
    {
      "cell_type": "code",
      "metadata": {
        "id": "hPmCynsuIXsc",
        "colab_type": "code",
        "colab": {}
      },
      "source": [
        "model.compile(optimizer=keras.optimizers.RMSprop(lr=0.0001), loss = 'binary_crossentropy', metrics=['accuracy'])"
      ],
      "execution_count": 9,
      "outputs": []
    },
    {
      "cell_type": "code",
      "metadata": {
        "id": "1JzhBmwFI0Rf",
        "colab_type": "code",
        "colab": {}
      },
      "source": [
        "class my_callback(tf.keras.callbacks.Callback):\n",
        "  def on_epoch_end(self, epochs, logs ={}):\n",
        "    if logs.get('accuracy')>0.75:\n",
        "      print('\\nTraining accuracy reached 75%, stopping training..')\n",
        "      self.model.stop_training = True"
      ],
      "execution_count": 10,
      "outputs": []
    },
    {
      "cell_type": "code",
      "metadata": {
        "id": "G0uWLiKUJSFB",
        "colab_type": "code",
        "colab": {
          "base_uri": "https://localhost:8080/",
          "height": 571
        },
        "outputId": "16672022-b9d2-4b66-9ce7-0e3b42bc8aae"
      },
      "source": [
        "history = model.fit_generator(train_generator,\n",
        "                    steps_per_epoch = 10,\n",
        "                    epochs = 15,\n",
        "                    verbose = 1,\n",
        "                    callbacks = [my_callback()],\n",
        "                    validation_data = validation_gen)"
      ],
      "execution_count": 11,
      "outputs": [
        {
          "output_type": "stream",
          "text": [
            "WARNING:tensorflow:From <ipython-input-11-6bd18a46e508>:6: Model.fit_generator (from tensorflow.python.keras.engine.training) is deprecated and will be removed in a future version.\n",
            "Instructions for updating:\n",
            "Please use Model.fit, which supports generators.\n",
            "Epoch 1/15\n",
            "10/10 [==============================] - 19s 2s/step - loss: 0.8168 - accuracy: 0.5078 - val_loss: 0.6848 - val_accuracy: 0.5693\n",
            "Epoch 2/15\n",
            "10/10 [==============================] - 19s 2s/step - loss: 0.7007 - accuracy: 0.4953 - val_loss: 0.7819 - val_accuracy: 0.4148\n",
            "Epoch 3/15\n",
            "10/10 [==============================] - 19s 2s/step - loss: 0.7066 - accuracy: 0.5109 - val_loss: 0.6785 - val_accuracy: 0.6034\n",
            "Epoch 4/15\n",
            "10/10 [==============================] - 19s 2s/step - loss: 0.7043 - accuracy: 0.5063 - val_loss: 0.7417 - val_accuracy: 0.4158\n",
            "Epoch 5/15\n",
            "10/10 [==============================] - 19s 2s/step - loss: 0.6919 - accuracy: 0.5375 - val_loss: 0.6738 - val_accuracy: 0.6546\n",
            "Epoch 6/15\n",
            "10/10 [==============================] - 19s 2s/step - loss: 0.6814 - accuracy: 0.5734 - val_loss: 0.6700 - val_accuracy: 0.5871\n",
            "Epoch 7/15\n",
            "10/10 [==============================] - 19s 2s/step - loss: 0.6771 - accuracy: 0.5766 - val_loss: 0.6841 - val_accuracy: 0.5140\n",
            "Epoch 8/15\n",
            "10/10 [==============================] - 19s 2s/step - loss: 0.6978 - accuracy: 0.5516 - val_loss: 0.6623 - val_accuracy: 0.6584\n",
            "Epoch 9/15\n",
            "10/10 [==============================] - 19s 2s/step - loss: 0.6814 - accuracy: 0.5797 - val_loss: 0.6979 - val_accuracy: 0.4581\n",
            "Epoch 10/15\n",
            "10/10 [==============================] - 19s 2s/step - loss: 0.6745 - accuracy: 0.5828 - val_loss: 0.6902 - val_accuracy: 0.4879\n",
            "Epoch 11/15\n",
            "10/10 [==============================] - 19s 2s/step - loss: 0.6793 - accuracy: 0.5578 - val_loss: 0.6539 - val_accuracy: 0.6607\n",
            "Epoch 12/15\n",
            "10/10 [==============================] - 19s 2s/step - loss: 0.6743 - accuracy: 0.5922 - val_loss: 0.6686 - val_accuracy: 0.5735\n",
            "Epoch 13/15\n",
            "10/10 [==============================] - 19s 2s/step - loss: 0.6634 - accuracy: 0.5922 - val_loss: 0.6442 - val_accuracy: 0.6177\n",
            "Epoch 14/15\n",
            "10/10 [==============================] - 19s 2s/step - loss: 0.6686 - accuracy: 0.5750 - val_loss: 0.7430 - val_accuracy: 0.4396\n",
            "Epoch 15/15\n",
            "10/10 [==============================] - 19s 2s/step - loss: 0.6738 - accuracy: 0.5656 - val_loss: 0.6700 - val_accuracy: 0.5555\n"
          ],
          "name": "stdout"
        }
      ]
    },
    {
      "cell_type": "code",
      "metadata": {
        "id": "K02DLdhZK6ya",
        "colab_type": "code",
        "colab": {
          "base_uri": "https://localhost:8080/",
          "height": 551
        },
        "outputId": "aade8488-5c2a-4d1a-e359-6a982c2c86d2"
      },
      "source": [
        "accuracy = history.history['accuracy']\n",
        "loss = history.history['loss']\n",
        "validation_acc = history.history['val_accuracy']\n",
        "validation_loss = history.history['val_loss']\n",
        "epochs = range(len(accuracy))\n",
        "plt.plot(epochs, accuracy, 'r', label = 'Training_Accuracy')\n",
        "plt.plot(epochs, validation_acc, 'b', label = 'Validation_Accuracy')\n",
        "plt.title('TrainingvsValidation Accuracy')\n",
        "plt.legend()\n",
        "plt.show()\n",
        "plt.plot(epochs, loss, 'r', label = 'Training_Loss')\n",
        "plt.plot(epochs, validation_loss, 'b', label = 'Validation_Loss')\n",
        "plt.title('TrainingvsValidation Loss')\n",
        "plt.legend()\n",
        "plt.show()"
      ],
      "execution_count": 12,
      "outputs": [
        {
          "output_type": "display_data",
          "data": {
            "image/png": "[encoded data removed]",
            "text/plain": [
              "<Figure size 432x288 with 1 Axes>"
            ]
          },
          "metadata": {
            "tags": [],
            "needs_background": "light"
          }
        },
        {
          "output_type": "display_data",
          "data": {
            "image/png": "[encoded data removed]",
            "text/plain": [
              "<Figure size 432x288 with 1 Axes>"
            ]
          },
          "metadata": {
            "tags": [],
            "needs_background": "light"
          }
        }
      ]
    },
    {
      "cell_type": "code",
      "metadata": {
        "id": "wapv7tyUWxy7",
        "colab_type": "code",
        "colab": {
          "base_uri": "https://localhost:8080/",
          "height": 34
        },
        "outputId": "93cb8e05-8d40-43ad-c958-d3245eef47e7"
      },
      "source": [
        "train_generator.class_indices"
      ],
      "execution_count": 13,
      "outputs": [
        {
          "output_type": "execute_result",
          "data": {
            "text/plain": [
              "{'cats': 0, 'dogs': 1}"
            ]
          },
          "metadata": {
            "tags": []
          },
          "execution_count": 13
        }
      ]
    },
    {
      "cell_type": "code",
      "metadata": {
        "id": "R6ptidXMlQEz",
        "colab_type": "code",
        "colab": {
          "base_uri": "https://localhost:8080/",
          "height": 34
        },
        "outputId": "93e2a42e-3a3f-48b4-a11b-04119d1e5f29"
      },
      "source": [
        "test_image = keras.preprocessing.image.load_img('/test_image.jpeg', target_size=(150,150,3))\n",
        "test_image = keras.preprocessing.image.img_to_array(test_image)\n",
        "test_image = np.expand_dims(test_image, axis=0)\n",
        "prediction = model.predict(test_image)\n",
        "if prediction == 0:\n",
        "  print('Cat')\n",
        "else:\n",
        "  print('Dog')"
      ],
      "execution_count": 14,
      "outputs": [
        {
          "output_type": "stream",
          "text": [
            "Dog\n"
          ],
          "name": "stdout"
        }
      ]
    },
    {
      "cell_type": "code",
      "metadata": {
        "id": "XGqes-ZyXTmH",
        "colab_type": "code",
        "colab": {}
      },
      "source": [
        ""
      ],
      "execution_count": 14,
      "outputs": []
    }
  ]
}