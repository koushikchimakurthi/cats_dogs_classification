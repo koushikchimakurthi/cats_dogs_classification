{
  "nbformat": 4,
  "nbformat_minor": 0,
  "metadata": {
    "colab": {
      "name": "CatsvsDogsImageAugmentation.ipynb",
      "provenance": [],
      "collapsed_sections": [],
      "authorship_tag": "ABX9TyNjQ8UCAx43VM4mPmV/k3oQ",
      "include_colab_link": true
    },
    "kernelspec": {
      "name": "python3",
      "display_name": "Python 3"
    },
    "accelerator": "GPU"
  },
  "cells": [
    {
      "cell_type": "markdown",
      "metadata": {
        "id": "view-in-github",
        "colab_type": "text"
      },
      "source": [
        "<a href=\"https://colab.research.google.com/github/koushikchimakurthi/cats_dogs_classification/blob/master/CatsvsDogsImageAugmentation.ipynb\" target=\"_parent\"><img src=\"https://colab.research.google.com/assets/colab-badge.svg\" alt=\"Open In Colab\"/></a>"
      ]
    },
    {
      "cell_type": "code",
      "metadata": {
        "id": "A4BGGnHM4UjQ",
        "colab_type": "code",
        "colab": {
          "base_uri": "https://localhost:8080/",
          "height": 70
        },
        "outputId": "5e4efd73-febc-440a-ae81-44665890d96a"
      },
      "source": [
        "import numpy as np\n",
        "import pandas as pd\n",
        "import matplotlib.pyplot as plt\n",
        "import seaborn as sns\n",
        "sns.set()\n",
        "import tensorflow as tf\n",
        "from tensorflow import keras\n",
        "from tensorflow.keras.preprocessing.image import ImageDataGenerator\n",
        "import random\n",
        "import os\n",
        "import zipfile\n",
        "from shutil import copyfile"
      ],
      "execution_count": 1,
      "outputs": [
        {
          "output_type": "stream",
          "text": [
            "/usr/local/lib/python3.6/dist-packages/statsmodels/tools/_testing.py:19: FutureWarning: pandas.util.testing is deprecated. Use the functions in the public API at pandas.testing instead.\n",
            "  import pandas.util.testing as tm\n"
          ],
          "name": "stderr"
        }
      ]
    },
    {
      "cell_type": "code",
      "metadata": {
        "id": "d8bsOlXR4975",
        "colab_type": "code",
        "colab": {
          "base_uri": "https://localhost:8080/",
          "height": 202
        },
        "outputId": "4df80e98-d446-4ff1-b488-02a2444daa2f"
      },
      "source": [
        "!wget --no-check-certificate \\\n",
        "    \"https://download.microsoft.com/download/3/E/1/3E1C3F21-ECDB-4869-8368-6DEBA77B919F/kagglecatsanddogs_3367a.zip\" \\\n",
        "    -O \"/tmp/cats-and-dogs.zip\""
      ],
      "execution_count": 2,
      "outputs": [
        {
          "output_type": "stream",
          "text": [
            "--2020-09-10 07:37:43--  https://download.microsoft.com/download/3/E/1/3E1C3F21-ECDB-4869-8368-6DEBA77B919F/kagglecatsanddogs_3367a.zip\n",
            "Resolving download.microsoft.com (download.microsoft.com)... 23.60.72.32, 2600:1409:12:2af::e59, 2600:1409:12:285::e59\n",
            "Connecting to download.microsoft.com (download.microsoft.com)|23.60.72.32|:443... connected.\n",
            "HTTP request sent, awaiting response... 200 OK\n",
            "Length: 824894548 (787M) [application/octet-stream]\n",
            "Saving to: ‘/tmp/cats-and-dogs.zip’\n",
            "\n",
            "/tmp/cats-and-dogs. 100%[===================>] 786.68M   274MB/s    in 2.9s    \n",
            "\n",
            "2020-09-10 07:37:46 (274 MB/s) - ‘/tmp/cats-and-dogs.zip’ saved [824894548/824894548]\n",
            "\n"
          ],
          "name": "stdout"
        }
      ]
    },
    {
      "cell_type": "code",
      "metadata": {
        "id": "i_lqce_m5Dq2",
        "colab_type": "code",
        "colab": {}
      },
      "source": [
        "local_zip = '/tmp/cats-and-dogs.zip'\n",
        "with zipfile.ZipFile(local_zip, 'r') as zip_ref:\n",
        "  zip_ref.extractall('/tmp')\n",
        "  zip_ref.close()"
      ],
      "execution_count": 3,
      "outputs": []
    },
    {
      "cell_type": "code",
      "metadata": {
        "id": "50yqIA3Y5dP9",
        "colab_type": "code",
        "colab": {}
      },
      "source": [
        "try:\n",
        "  os.mkdir('/tmp/cats-and-dogs')\n",
        "  os.mkdir('/tmp/cats-and-dogs/training')\n",
        "  os.mkdir('/tmp/cats-and-dogs/testing')\n",
        "  os.mkdir('/tmp/cats-and-dogs/training/cats')\n",
        "  os.mkdir('/tmp/cats-and-dogs/training/dogs')\n",
        "  os.mkdir('/tmp/cats-and-dogs/testing/cats')\n",
        "  os.mkdir('/tmp/cats-and-dogs/testing/dogs')\n",
        "except OSError:\n",
        "  pass"
      ],
      "execution_count": 4,
      "outputs": []
    },
    {
      "cell_type": "code",
      "metadata": {
        "id": "VptWiwg66Cis",
        "colab_type": "code",
        "colab": {
          "base_uri": "https://localhost:8080/",
          "height": 50
        },
        "outputId": "ad42c02d-b0dc-46ff-936e-991ecbc70de5"
      },
      "source": [
        "def split_data(Source, Training, Testing, Split_size):\n",
        "  files = []\n",
        "  for filename in os.listdir(Source):\n",
        "    file  = Source + filename\n",
        "    if os.path.getsize(file)>0:\n",
        "      files.append(filename)\n",
        "    else:\n",
        "      print(\"{} is of zero length, so ignoring...\".format(filename))\n",
        "\n",
        "  training_length = int(len(files)*Split_size)\n",
        "  testing_length = int(len(files) - training_length)\n",
        "  shuffled_set = random.sample(files, len(files))\n",
        "  training_set = shuffled_set[0:training_length]\n",
        "  testing_set = shuffled_set[-testing_length:]\n",
        "\n",
        "  for filename in training_set:\n",
        "    this_file = Source + filename\n",
        "    destination = Training + filename\n",
        "    copyfile(this_file, destination)\n",
        "\n",
        "  for filename in testing_set:\n",
        "    this_file = Source + filename\n",
        "    destination = Testing + filename\n",
        "    copyfile(this_file, destination)\n",
        "\n",
        "CATS_SOURCE_DIR = '/tmp/PetImages/Cat/'\n",
        "CATS_TRAINING_DIR = '/tmp/cats-and-dogs/training/cats/'\n",
        "CATS_TESTING_DIR = '/tmp/cats-and-dogs/testing/cats/'\n",
        "DOGS_SOURCE_DIR = '/tmp/PetImages/Dog/'\n",
        "DOGS_TRAINING_DIR = '/tmp/cats-and-dogs/training/dogs/'\n",
        "DOGS_TESTING_DIR = '/tmp/cats-and-dogs/testing/dogs/'\n",
        "\n",
        "split_size = 0.9\n",
        "split_data(CATS_SOURCE_DIR, CATS_TRAINING_DIR, CATS_TESTING_DIR, split_size)\n",
        "split_data(DOGS_SOURCE_DIR, DOGS_TRAINING_DIR, DOGS_TESTING_DIR, split_size)"
      ],
      "execution_count": 5,
      "outputs": [
        {
          "output_type": "stream",
          "text": [
            "666.jpg is of zero length, so ignoring...\n",
            "11702.jpg is of zero length, so ignoring...\n"
          ],
          "name": "stdout"
        }
      ]
    },
    {
      "cell_type": "code",
      "metadata": {
        "id": "Ite5GXmDE7P3",
        "colab_type": "code",
        "colab": {
          "base_uri": "https://localhost:8080/",
          "height": 50
        },
        "outputId": "b54ae0d3-03fc-4f1a-8565-fb29fda7af64"
      },
      "source": [
        "train_datagen = ImageDataGenerator(rescale=1/255,\n",
        "                                  width_shift_range = 0.2,\n",
        "                                  height_shift_range = 0.2,\n",
        "                                  zoom_range = 0.2,\n",
        "                                  shear_range = 0.2,\n",
        "                                  horizontal_flip = True)\n",
        "train_generator = train_datagen.flow_from_directory('/tmp/cats-and-dogs/training/',\n",
        "                                                    target_size = (150,150),\n",
        "                                                    batch_size = 64,\n",
        "                                                    class_mode = 'binary')\n",
        "test_datagen = ImageDataGenerator(rescale=1/255)\n",
        "validation_gen = test_datagen.flow_from_directory('/tmp/cats-and-dogs/testing/',\n",
        "                                                  target_size = (150,150),\n",
        "                                                  batch_size = 32,\n",
        "                                                  class_mode = 'binary')"
      ],
      "execution_count": 6,
      "outputs": [
        {
          "output_type": "stream",
          "text": [
            "Found 22498 images belonging to 2 classes.\n",
            "Found 2500 images belonging to 2 classes.\n"
          ],
          "name": "stdout"
        }
      ]
    },
    {
      "cell_type": "code",
      "metadata": {
        "id": "hOcEzt_qHAD2",
        "colab_type": "code",
        "colab": {}
      },
      "source": [
        "model = tf.keras.models.Sequential([keras.layers.Conv2D(64, (3,3), input_shape=(150,150,3), activation='relu'),\n",
        "                                    keras.layers.MaxPooling2D(pool_size=(2,2)),\n",
        "                                    keras.layers.Conv2D(16, (3,3), activation='relu'),\n",
        "                                    keras.layers.MaxPooling2D(pool_size=(2,2)),\n",
        "                                    keras.layers.Conv2D(32, (3,3), activation='relu'),\n",
        "                                    keras.layers.MaxPooling2D(pool_size=(2,2)),\n",
        "                                    keras.layers.Flatten(),\n",
        "                                    keras.layers.Dense(units = 512, activation='relu'),\n",
        "                                    keras.layers.Dense(units = 128, activation = 'relu'),\n",
        "                                    keras.layers.Dense(1, activation='sigmoid')])"
      ],
      "execution_count": 8,
      "outputs": []
    },
    {
      "cell_type": "code",
      "metadata": {
        "id": "jaDtbv7HIWAm",
        "colab_type": "code",
        "colab": {
          "base_uri": "https://localhost:8080/",
          "height": 487
        },
        "outputId": "45a3c342-6875-462b-dfcd-bed6af1fa566"
      },
      "source": [
        "model.summary()"
      ],
      "execution_count": 9,
      "outputs": [
        {
          "output_type": "stream",
          "text": [
            "Model: \"sequential\"\n",
            "_________________________________________________________________\n",
            "Layer (type)                 Output Shape              Param #   \n",
            "=================================================================\n",
            "conv2d (Conv2D)              (None, 148, 148, 64)      1792      \n",
            "_________________________________________________________________\n",
            "max_pooling2d (MaxPooling2D) (None, 74, 74, 64)        0         \n",
            "_________________________________________________________________\n",
            "conv2d_1 (Conv2D)            (None, 72, 72, 16)        9232      \n",
            "_________________________________________________________________\n",
            "max_pooling2d_1 (MaxPooling2 (None, 36, 36, 16)        0         \n",
            "_________________________________________________________________\n",
            "conv2d_2 (Conv2D)            (None, 34, 34, 32)        4640      \n",
            "_________________________________________________________________\n",
            "max_pooling2d_2 (MaxPooling2 (None, 17, 17, 32)        0         \n",
            "_________________________________________________________________\n",
            "flatten (Flatten)            (None, 9248)              0         \n",
            "_________________________________________________________________\n",
            "dense (Dense)                (None, 512)               4735488   \n",
            "_________________________________________________________________\n",
            "dense_1 (Dense)              (None, 128)               65664     \n",
            "_________________________________________________________________\n",
            "dense_2 (Dense)              (None, 1)                 129       \n",
            "=================================================================\n",
            "Total params: 4,816,945\n",
            "Trainable params: 4,816,945\n",
            "Non-trainable params: 0\n",
            "_________________________________________________________________\n"
          ],
          "name": "stdout"
        }
      ]
    },
    {
      "cell_type": "code",
      "metadata": {
        "id": "hPmCynsuIXsc",
        "colab_type": "code",
        "colab": {}
      },
      "source": [
        "model.compile(optimizer=keras.optimizers.RMSprop(lr=0.001), loss = 'binary_crossentropy', metrics=['accuracy'])"
      ],
      "execution_count": 10,
      "outputs": []
    },
    {
      "cell_type": "code",
      "metadata": {
        "id": "1JzhBmwFI0Rf",
        "colab_type": "code",
        "colab": {}
      },
      "source": [
        "class my_callback(tf.keras.callbacks.Callback):\n",
        "  def on_epoch_end(self, epochs, logs ={}):\n",
        "    if logs.get('accuracy')>0.75:\n",
        "      print('\\nTraining accuracy reached 75%, stopping training..')\n",
        "      self.model.stop_training = True"
      ],
      "execution_count": 11,
      "outputs": []
    },
    {
      "cell_type": "code",
      "metadata": {
        "id": "G0uWLiKUJSFB",
        "colab_type": "code",
        "colab": {
          "base_uri": "https://localhost:8080/",
          "height": 571
        },
        "outputId": "1631fbc9-f9c3-453c-d0ee-fe6db279ca22"
      },
      "source": [
        "history = model.fit_generator(train_generator,\n",
        "                    steps_per_epoch = 10,\n",
        "                    epochs = 15,\n",
        "                    verbose = 1,\n",
        "                    callbacks = [my_callback()],\n",
        "                    validation_data = validation_gen)"
      ],
      "execution_count": 12,
      "outputs": [
        {
          "output_type": "stream",
          "text": [
            "WARNING:tensorflow:From <ipython-input-12-6bd18a46e508>:6: Model.fit_generator (from tensorflow.python.keras.engine.training) is deprecated and will be removed in a future version.\n",
            "Instructions for updating:\n",
            "Please use Model.fit, which supports generators.\n",
            "Epoch 1/15\n",
            "10/10 [==============================] - 10s 1s/step - loss: 1.0833 - accuracy: 0.5000 - val_loss: 0.6951 - val_accuracy: 0.5000\n",
            "Epoch 2/15\n",
            "10/10 [==============================] - 11s 1s/step - loss: 0.6947 - accuracy: 0.4891 - val_loss: 0.6943 - val_accuracy: 0.5008\n",
            "Epoch 3/15\n",
            "10/10 [==============================] - 11s 1s/step - loss: 0.7102 - accuracy: 0.5016 - val_loss: 0.6928 - val_accuracy: 0.5028\n",
            "Epoch 4/15\n",
            "10/10 [==============================] - 10s 1s/step - loss: 0.6915 - accuracy: 0.5437 - val_loss: 0.6917 - val_accuracy: 0.5048\n",
            "Epoch 5/15\n",
            "10/10 [==============================] - 11s 1s/step - loss: 0.6955 - accuracy: 0.5391 - val_loss: 0.6896 - val_accuracy: 0.6028\n",
            "Epoch 6/15\n",
            "10/10 [==============================] - 11s 1s/step - loss: 0.6884 - accuracy: 0.5469 - val_loss: 0.6881 - val_accuracy: 0.5224\n",
            "Epoch 7/15\n",
            "10/10 [==============================] - 11s 1s/step - loss: 0.7134 - accuracy: 0.5156 - val_loss: 0.6994 - val_accuracy: 0.5008\n",
            "Epoch 8/15\n",
            "10/10 [==============================] - 11s 1s/step - loss: 0.6887 - accuracy: 0.5516 - val_loss: 0.6791 - val_accuracy: 0.6204\n",
            "Epoch 9/15\n",
            "10/10 [==============================] - 11s 1s/step - loss: 0.6914 - accuracy: 0.5672 - val_loss: 0.6762 - val_accuracy: 0.5704\n",
            "Epoch 10/15\n",
            "10/10 [==============================] - 10s 1s/step - loss: 0.6812 - accuracy: 0.5938 - val_loss: 0.6656 - val_accuracy: 0.6208\n",
            "Epoch 11/15\n",
            "10/10 [==============================] - 11s 1s/step - loss: 0.6956 - accuracy: 0.5781 - val_loss: 0.6603 - val_accuracy: 0.6276\n",
            "Epoch 12/15\n",
            "10/10 [==============================] - 11s 1s/step - loss: 0.6777 - accuracy: 0.5656 - val_loss: 0.6616 - val_accuracy: 0.6348\n",
            "Epoch 13/15\n",
            "10/10 [==============================] - 11s 1s/step - loss: 0.6769 - accuracy: 0.6219 - val_loss: 0.6601 - val_accuracy: 0.6464\n",
            "Epoch 14/15\n",
            "10/10 [==============================] - 11s 1s/step - loss: 0.6630 - accuracy: 0.6094 - val_loss: 0.6470 - val_accuracy: 0.6468\n",
            "Epoch 15/15\n",
            "10/10 [==============================] - 11s 1s/step - loss: 0.6508 - accuracy: 0.6172 - val_loss: 0.6400 - val_accuracy: 0.6488\n"
          ],
          "name": "stdout"
        }
      ]
    },
    {
      "cell_type": "code",
      "metadata": {
        "id": "K02DLdhZK6ya",
        "colab_type": "code",
        "colab": {
          "base_uri": "https://localhost:8080/",
          "height": 551
        },
        "outputId": "80123f9a-29e7-478a-f813-a132e61d471f"
      },
      "source": [
        "accuracy = history.history['accuracy']\n",
        "loss = history.history['loss']\n",
        "validation_acc = history.history['val_accuracy']\n",
        "validation_loss = history.history['val_loss']\n",
        "epochs = range(len(accuracy))\n",
        "plt.plot(epochs, accuracy, 'r', label = 'Training_Accuracy')\n",
        "plt.plot(epochs, validation_acc, 'b', label = 'Validation_Accuracy')\n",
        "plt.title('TrainingvsValidation Accuracy')\n",
        "plt.legend()\n",
        "plt.show()\n",
        "plt.plot(epochs, loss, 'r', label = 'Training_Loss')\n",
        "plt.plot(epochs, validation_loss, 'b', label = 'Validation_Loss')\n",
        "plt.title('TrainingvsValidation Loss')\n",
        "plt.legend()\n",
        "plt.show()"
      ],
      "execution_count": 13,
      "outputs": [
        {
          "output_type": "display_data",
          "data": {
            "image/png": "[encoded data removed]",
            "text/plain": [
              "<Figure size 432x288 with 1 Axes>"
            ]
          },
          "metadata": {
            "tags": [],
            "needs_background": "light"
          }
        },
        {
          "output_type": "display_data",
          "data": {
            "image/png": "[encoded data removed]",
            "text/plain": [
              "<Figure size 432x288 with 1 Axes>"
            ]
          },
          "metadata": {
            "tags": [],
            "needs_background": "light"
          }
        }
      ]
    },
    {
      "cell_type": "code",
      "metadata": {
        "id": "wapv7tyUWxy7",
        "colab_type": "code",
        "colab": {
          "base_uri": "https://localhost:8080/",
          "height": 34
        },
        "outputId": "95a46dc0-03c2-458f-88a2-48bde5aa45ac"
      },
      "source": [
        "train_generator.class_indices"
      ],
      "execution_count": 14,
      "outputs": [
        {
          "output_type": "execute_result",
          "data": {
            "text/plain": [
              "{'cats': 0, 'dogs': 1}"
            ]
          },
          "metadata": {
            "tags": []
          },
          "execution_count": 14
        }
      ]
    },
    {
      "cell_type": "code",
      "metadata": {
        "id": "R6ptidXMlQEz",
        "colab_type": "code",
        "colab": {
          "base_uri": "https://localhost:8080/",
          "height": 34
        },
        "outputId": "fecab59f-f122-4527-b0f9-03ab6ca7bfd7"
      },
      "source": [
        "test_image = keras.preprocessing.image.load_img('/test_image.jpeg', target_size=(150,150,3))\n",
        "test_image = keras.preprocessing.image.img_to_array(test_image)\n",
        "test_image = np.expand_dims(test_image, axis=0)\n",
        "prediction = model.predict(test_image)\n",
        "if prediction == 0:\n",
        "  print('Cat')\n",
        "else:\n",
        "  print('Dog')"
      ],
      "execution_count": 16,
      "outputs": [
        {
          "output_type": "stream",
          "text": [
            "Dog\n"
          ],
          "name": "stdout"
        }
      ]
    },
    {
      "cell_type": "code",
      "metadata": {
        "id": "XGqes-ZyXTmH",
        "colab_type": "code",
        "colab": {}
      },
      "source": [
        ""
      ],
      "execution_count": null,
      "outputs": []
    }
  ]
}