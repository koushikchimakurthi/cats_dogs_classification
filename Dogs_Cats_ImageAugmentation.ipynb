{
  "nbformat": 4,
  "nbformat_minor": 0,
  "metadata": {
    "colab": {
      "name": "Dogs-Cats.ipynb",
      "provenance": []
    },
    "kernelspec": {
      "name": "python3",
      "display_name": "Python 3"
    },
    "accelerator": "GPU"
  },
  "cells": [
    {
      "cell_type": "code",
      "metadata": {
        "id": "A4BGGnHM4UjQ",
        "colab_type": "code",
        "colab": {
          "base_uri": "https://localhost:8080/",
          "height": 70
        },
        "outputId": "29fa5a8c-eb33-4dca-da65-11525c52cf1f"
      },
      "source": [
        "import numpy as np\n",
        "import pandas as pd\n",
        "import matplotlib.pyplot as plt\n",
        "import seaborn as sns\n",
        "sns.set()\n",
        "import tensorflow as tf\n",
        "from tensorflow import keras\n",
        "from tensorflow.keras.preprocessing.image import ImageDataGenerator\n",
        "import random\n",
        "import os\n",
        "import zipfile\n",
        "from shutil import copyfile"
      ],
      "execution_count": 1,
      "outputs": [
        {
          "output_type": "stream",
          "text": [
            "/usr/local/lib/python3.6/dist-packages/statsmodels/tools/_testing.py:19: FutureWarning: pandas.util.testing is deprecated. Use the functions in the public API at pandas.testing instead.\n",
            "  import pandas.util.testing as tm\n"
          ],
          "name": "stderr"
        }
      ]
    },
    {
      "cell_type": "code",
      "metadata": {
        "id": "d8bsOlXR4975",
        "colab_type": "code",
        "colab": {
          "base_uri": "https://localhost:8080/",
          "height": 202
        },
        "outputId": "ddb5f641-d8e6-4d8f-9066-75a18f6cae1b"
      },
      "source": [
        "!wget --no-check-certificate \\\n",
        "    \"https://download.microsoft.com/download/3/E/1/3E1C3F21-ECDB-4869-8368-6DEBA77B919F/kagglecatsanddogs_3367a.zip\" \\\n",
        "    -O \"/tmp/cats-and-dogs.zip\""
      ],
      "execution_count": 2,
      "outputs": [
        {
          "output_type": "stream",
          "text": [
            "--2020-09-09 14:24:45--  https://download.microsoft.com/download/3/E/1/3E1C3F21-ECDB-4869-8368-6DEBA77B919F/kagglecatsanddogs_3367a.zip\n",
            "Resolving download.microsoft.com (download.microsoft.com)... 23.60.72.32, 2600:1409:12:2af::e59, 2600:1409:12:285::e59\n",
            "Connecting to download.microsoft.com (download.microsoft.com)|23.60.72.32|:443... connected.\n",
            "HTTP request sent, awaiting response... 200 OK\n",
            "Length: 824894548 (787M) [application/octet-stream]\n",
            "Saving to: ‘/tmp/cats-and-dogs.zip’\n",
            "\n",
            "/tmp/cats-and-dogs. 100%[===================>] 786.68M   267MB/s    in 2.9s    \n",
            "\n",
            "2020-09-09 14:24:48 (267 MB/s) - ‘/tmp/cats-and-dogs.zip’ saved [824894548/824894548]\n",
            "\n"
          ],
          "name": "stdout"
        }
      ]
    },
    {
      "cell_type": "code",
      "metadata": {
        "id": "i_lqce_m5Dq2",
        "colab_type": "code",
        "colab": {}
      },
      "source": [
        "local_zip = '/tmp/cats-and-dogs.zip'\n",
        "with zipfile.ZipFile(local_zip, 'r') as zip_ref:\n",
        "  zip_ref.extractall('/tmp')\n",
        "  zip_ref.close()"
      ],
      "execution_count": 3,
      "outputs": []
    },
    {
      "cell_type": "code",
      "metadata": {
        "id": "50yqIA3Y5dP9",
        "colab_type": "code",
        "colab": {}
      },
      "source": [
        "try:\n",
        "  os.mkdir('/tmp/cats-and-dogs')\n",
        "  os.mkdir('/tmp/cats-and-dogs/training')\n",
        "  os.mkdir('/tmp/cats-and-dogs/testing')\n",
        "  os.mkdir('/tmp/cats-and-dogs/training/cats')\n",
        "  os.mkdir('/tmp/cats-and-dogs/training/dogs')\n",
        "  os.mkdir('/tmp/cats-and-dogs/testing/cats')\n",
        "  os.mkdir('/tmp/cats-and-dogs/testing/dogs')\n",
        "except OSError:\n",
        "  pass"
      ],
      "execution_count": 4,
      "outputs": []
    },
    {
      "cell_type": "code",
      "metadata": {
        "id": "VptWiwg66Cis",
        "colab_type": "code",
        "colab": {
          "base_uri": "https://localhost:8080/",
          "height": 50
        },
        "outputId": "8aacf094-cf28-471d-fc9b-2b4426ebb4b6"
      },
      "source": [
        "def split_data(Source, Training, Testing, Split_size):\n",
        "  files = []\n",
        "  for filename in os.listdir(Source):\n",
        "    file  = Source + filename\n",
        "    if os.path.getsize(file)>0:\n",
        "      files.append(filename)\n",
        "    else:\n",
        "      print(\"{} is of zero length, so ignoring...\".format(filename))\n",
        "\n",
        "  training_length = int(len(files)*split_size)\n",
        "  testing_length = int(len(files) - training_length)\n",
        "  shuffled_set = random.sample(files, len(files))\n",
        "  training_set = shuffled_set[0:training_length]\n",
        "  testing_set = shuffled_set[-testing_length:]\n",
        "\n",
        "  for filename in training_set:\n",
        "    this_file = Source + filename\n",
        "    destination = Training + filename\n",
        "    copyfile(this_file, destination)\n",
        "\n",
        "  for filename in testing_set:\n",
        "    this_file = Source + filename\n",
        "    destination = Testing + filename\n",
        "    copyfile(this_file, destination)\n",
        "\n",
        "CATS_SOURCE_DIR = '/tmp/PetImages/Cat/'\n",
        "CATS_TRAINING_DIR = '/tmp/cats-and-dogs/training/cats/'\n",
        "CATS_TESTING_DIR = '/tmp/cats-and-dogs/testing/cats/'\n",
        "DOGS_SOURCE_DIR = '/tmp/PetImages/Dog/'\n",
        "DOGS_TRAINING_DIR = '/tmp/cats-and-dogs/training/dogs'\n",
        "DOGS_TESTING_DIR = '/tmp/cats-and-dogs/testing/dogs'\n",
        "\n",
        "split_size = 0.9\n",
        "split_data(CATS_SOURCE_DIR, CATS_TRAINING_DIR, CATS_TESTING_DIR, split_size)\n",
        "split_data(DOGS_SOURCE_DIR, DOGS_TRAINING_DIR, DOGS_TESTING_DIR, split_size)"
      ],
      "execution_count": 5,
      "outputs": [
        {
          "output_type": "stream",
          "text": [
            "666.jpg is of zero length, so ignoring...\n",
            "11702.jpg is of zero length, so ignoring...\n"
          ],
          "name": "stdout"
        }
      ]
    },
    {
      "cell_type": "code",
      "metadata": {
        "id": "Ite5GXmDE7P3",
        "colab_type": "code",
        "colab": {
          "base_uri": "https://localhost:8080/",
          "height": 50
        },
        "outputId": "a3edd0e8-6d3d-460d-c4b3-0b0093cc29ce"
      },
      "source": [
        "train_datagen = ImageDataGenerator(rescale=1/255,\n",
        "                                      shear_range = 0.2,\n",
        "                                      horizontal_flip = True)\n",
        "train_generator = train_datagen.flow_from_directory('/tmp/cats-and-dogs/training/',\n",
        "                                                    target_size = (150,150),\n",
        "                                                    batch_size = 64,\n",
        "                                                    class_mode = 'binary')\n",
        "test_datagen = ImageDataGenerator(rescale=1/255)\n",
        "validation_gen = test_datagen.flow_from_directory('/tmp/cats-and-dogs/testing/',\n",
        "                                                  target_size = (150,150),\n",
        "                                                  batch_size = 32,\n",
        "                                                  class_mode = 'binary')"
      ],
      "execution_count": 6,
      "outputs": [
        {
          "output_type": "stream",
          "text": [
            "Found 12499 images belonging to 2 classes.\n",
            "Found 10140 images belonging to 2 classes.\n"
          ],
          "name": "stdout"
        }
      ]
    },
    {
      "cell_type": "code",
      "metadata": {
        "id": "hOcEzt_qHAD2",
        "colab_type": "code",
        "colab": {}
      },
      "source": [
        "model = tf.keras.models.Sequential([keras.layers.Conv2D(16, (3,3), input_shape=(150,150,3), activation='relu'),\n",
        "                                    keras.layers.MaxPooling2D(pool_size=(2,2)),\n",
        "                                    keras.layers.Conv2D(64, (3,3), activation='relu'),\n",
        "                                    keras.layers.MaxPooling2D(pool_size=(2,2)),\n",
        "                                    keras.layers.Conv2D(32, (3,3), activation='relu'),\n",
        "                                    keras.layers.MaxPooling2D(pool_size=(2,2)),\n",
        "                                    keras.layers.Flatten(),\n",
        "                                    keras.layers.Dense(units = 512, activation='relu'),\n",
        "                                    keras.layers.Dense(1, activation='sigmoid')])"
      ],
      "execution_count": 7,
      "outputs": []
    },
    {
      "cell_type": "code",
      "metadata": {
        "id": "jaDtbv7HIWAm",
        "colab_type": "code",
        "colab": {
          "base_uri": "https://localhost:8080/",
          "height": 454
        },
        "outputId": "1f3e9e41-6b5c-4b20-98d7-6c236508fe5b"
      },
      "source": [
        "model.summary()"
      ],
      "execution_count": 8,
      "outputs": [
        {
          "output_type": "stream",
          "text": [
            "Model: \"sequential\"\n",
            "_________________________________________________________________\n",
            "Layer (type)                 Output Shape              Param #   \n",
            "=================================================================\n",
            "conv2d (Conv2D)              (None, 148, 148, 16)      448       \n",
            "_________________________________________________________________\n",
            "max_pooling2d (MaxPooling2D) (None, 74, 74, 16)        0         \n",
            "_________________________________________________________________\n",
            "conv2d_1 (Conv2D)            (None, 72, 72, 64)        9280      \n",
            "_________________________________________________________________\n",
            "max_pooling2d_1 (MaxPooling2 (None, 36, 36, 64)        0         \n",
            "_________________________________________________________________\n",
            "conv2d_2 (Conv2D)            (None, 34, 34, 32)        18464     \n",
            "_________________________________________________________________\n",
            "max_pooling2d_2 (MaxPooling2 (None, 17, 17, 32)        0         \n",
            "_________________________________________________________________\n",
            "flatten (Flatten)            (None, 9248)              0         \n",
            "_________________________________________________________________\n",
            "dense (Dense)                (None, 512)               4735488   \n",
            "_________________________________________________________________\n",
            "dense_1 (Dense)              (None, 1)                 513       \n",
            "=================================================================\n",
            "Total params: 4,764,193\n",
            "Trainable params: 4,764,193\n",
            "Non-trainable params: 0\n",
            "_________________________________________________________________\n"
          ],
          "name": "stdout"
        }
      ]
    },
    {
      "cell_type": "code",
      "metadata": {
        "id": "hPmCynsuIXsc",
        "colab_type": "code",
        "colab": {}
      },
      "source": [
        "model.compile(optimizer=keras.optimizers.RMSprop(lr=0.001), loss = 'binary_crossentropy', metrics=['accuracy'])"
      ],
      "execution_count": 9,
      "outputs": []
    },
    {
      "cell_type": "code",
      "metadata": {
        "id": "1JzhBmwFI0Rf",
        "colab_type": "code",
        "colab": {}
      },
      "source": [
        "class my_callback(tf.keras.callbacks.Callback):\n",
        "  def on_epoch_end(self, epochs, logs ={}):\n",
        "    if logs.get('accuracy')>0.99:\n",
        "      print('\\nTraining accuracy reached 99%, stopping training..')\n",
        "      self.model.stop_training = True"
      ],
      "execution_count": 10,
      "outputs": []
    },
    {
      "cell_type": "code",
      "metadata": {
        "id": "G0uWLiKUJSFB",
        "colab_type": "code",
        "colab": {
          "base_uri": "https://localhost:8080/",
          "height": 168
        },
        "outputId": "a3ae5306-620b-40fd-b89d-71917503bc66"
      },
      "source": [
        "history = model.fit_generator(train_generator,\n",
        "                    steps_per_epoch = 10,\n",
        "                    epochs = 15,\n",
        "                    verbose = 1,\n",
        "                    callbacks = [my_callback()],\n",
        "                    validation_data = validation_gen)"
      ],
      "execution_count": 11,
      "outputs": [
        {
          "output_type": "stream",
          "text": [
            "WARNING:tensorflow:From <ipython-input-11-6bd18a46e508>:6: Model.fit_generator (from tensorflow.python.keras.engine.training) is deprecated and will be removed in a future version.\n",
            "Instructions for updating:\n",
            "Please use Model.fit, which supports generators.\n",
            "Epoch 1/15\n",
            "10/10 [==============================] - 34s 3s/step - loss: 0.0675 - accuracy: 0.9891 - val_loss: 2.3219e-08 - val_accuracy: 1.0000\n",
            "Epoch 2/15\n",
            "10/10 [==============================] - ETA: 0s - loss: 1.1533e-08 - accuracy: 1.0000\n",
            "Training accuracy reached 99%, stopping training..\n",
            "10/10 [==============================] - 33s 3s/step - loss: 1.1533e-08 - accuracy: 1.0000 - val_loss: 2.3083e-08 - val_accuracy: 1.0000\n"
          ],
          "name": "stdout"
        }
      ]
    },
    {
      "cell_type": "code",
      "metadata": {
        "id": "K02DLdhZK6ya",
        "colab_type": "code",
        "colab": {
          "base_uri": "https://localhost:8080/",
          "height": 551
        },
        "outputId": "4fba80d1-d3f4-404e-978b-a45735bbd245"
      },
      "source": [
        "accuracy = history.history['accuracy']\n",
        "loss = history.history['loss']\n",
        "validation_acc = history.history['val_accuracy']\n",
        "validation_loss = history.history['val_loss']\n",
        "epochs = range(len(accuracy))\n",
        "plt.plot(epochs, accuracy, 'r', label = 'Training_Accuracy')\n",
        "plt.plot(epochs, validation_acc, 'b', label = 'Validation_Accuracy')\n",
        "plt.title('TrainingvsValidation Accuracy')\n",
        "plt.legend()\n",
        "plt.show()\n",
        "plt.plot(epochs, loss, 'r', label = 'Training_Loss')\n",
        "plt.plot(epochs, validation_loss, 'b', label = 'Testing_Loss')\n",
        "plt.title('TrainingvsValidation Loss')\n",
        "plt.legend()\n",
        "plt.show()"
      ],
      "execution_count": 12,
      "outputs": [
        {
          "output_type": "display_data",
          "data": {
            "image/png": "[encoded data removed]",
            "text/plain": [
              "<Figure size 432x288 with 1 Axes>"
            ]
          },
          "metadata": {
            "tags": [],
            "needs_background": "light"
          }
        },
        {
          "output_type": "display_data",
          "data": {
            "image/png": "[encoded data removed]",
            "text/plain": [
              "<Figure size 432x288 with 1 Axes>"
            ]
          },
          "metadata": {
            "tags": [],
            "needs_background": "light"
          }
        }
      ]
    }
  ]
}